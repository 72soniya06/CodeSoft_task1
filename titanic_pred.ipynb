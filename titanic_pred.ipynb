{
  "nbformat": 4,
  "nbformat_minor": 0,
  "metadata": {
    "colab": {
      "provenance": [],
      "authorship_tag": "ABX9TyNGhGLgQnhniXt252Puxv9D",
      "include_colab_link": true
    },
    "kernelspec": {
      "name": "python3",
      "display_name": "Python 3"
    },
    "language_info": {
      "name": "python"
    }
  },
  "cells": [
    {
      "cell_type": "markdown",
      "metadata": {
        "id": "view-in-github",
        "colab_type": "text"
      },
      "source": [
        "<a href=\"https://colab.research.google.com/github/72soniya06/CodeSoft_task1/blob/main/titanic_pred.ipynb\" target=\"_parent\"><img src=\"https://colab.research.google.com/assets/colab-badge.svg\" alt=\"Open In Colab\"/></a>"
      ]
    },
    {
      "cell_type": "code",
      "source": [
        "import pandas as pd\n",
        "import gradio as gr\n",
        "from sklearn.ensemble import RandomForestClassifier\n",
        "from sklearn.model_selection import train_test_split\n",
        "\n",
        "# Load and preprocess\n",
        "df = pd.read_csv(\"Titanic-Dataset.csv\")\n",
        "df.drop(['PassengerId', 'Cabin', 'Name', 'Ticket'], axis=1, inplace=True)\n",
        "df['Age'].fillna(df['Age'].median(), inplace=True)\n",
        "df['Embarked'].fillna(df['Embarked'].mode()[0], inplace=True)\n",
        "df['Sex'] = df['Sex'].map({'male': 0, 'female': 1})\n",
        "df['Embarked'] = df['Embarked'].map({'S': 0, 'C': 1, 'Q': 2})\n",
        "df.dropna(subset=['Survived'], inplace=True)\n",
        "\n",
        "X = df.drop('Survived', axis=1)\n",
        "y = df['Survived']\n",
        "model = RandomForestClassifier(n_estimators=100, random_state=42)\n",
        "model.fit(X, y)\n",
        "\n",
        "# Prediction function\n",
        "def predict(pclass, sex, age, sibsp, parch, fare, embarked):\n",
        "    sex = 0 if sex == \"Male\" else 1\n",
        "    embarked = {\"S\": 0, \"C\": 1, \"Q\": 2}.get(embarked, 0)\n",
        "    input_df = pd.DataFrame([{\n",
        "        \"Pclass\": pclass,\n",
        "        \"Sex\": sex,\n",
        "        \"Age\": age,\n",
        "        \"SibSp\": sibsp,\n",
        "        \"Parch\": parch,\n",
        "        \"Fare\": fare,\n",
        "        \"Embarked\": embarked\n",
        "    }])\n",
        "    prediction = model.predict(input_df)[0]\n",
        "    return \"✅ Survived\" if prediction == 1 else \"❌ Did Not Survive\"\n",
        "\n",
        "# Gradio UI\n",
        "interface = gr.Interface(\n",
        "    fn=predict,\n",
        "    inputs=[\n",
        "        gr.Number(label=\"Pclass\"),\n",
        "        gr.Radio([\"Male\", \"Female\"], label=\"Sex\"),\n",
        "        gr.Number(label=\"Age\"),\n",
        "        gr.Number(label=\"Siblings/Spouses (SibSp)\"),\n",
        "        gr.Number(label=\"Parents/Children (Parch)\"),\n",
        "        gr.Number(label=\"Fare\"),\n",
        "        gr.Radio([\"S\", \"C\", \"Q\"], label=\"Embarked\")\n",
        "    ],\n",
        "    outputs=\"text\",\n",
        "    title=\"Titanic Survival Predictor\"\n",
        ")\n",
        "\n",
        "interface.launch()\n"
      ],
      "metadata": {
        "colab": {
          "base_uri": "https://localhost:8080/",
          "height": 889
        },
        "id": "C_g-cYQgCBK4",
        "outputId": "9b9c6518-a9aa-4b4a-e319-de3ba8b1292b"
      },
      "execution_count": 1,
      "outputs": [
        {
          "output_type": "stream",
          "name": "stderr",
          "text": [
            "/tmp/ipython-input-3274779809.py:9: FutureWarning: A value is trying to be set on a copy of a DataFrame or Series through chained assignment using an inplace method.\n",
            "The behavior will change in pandas 3.0. This inplace method will never work because the intermediate object on which we are setting values always behaves as a copy.\n",
            "\n",
            "For example, when doing 'df[col].method(value, inplace=True)', try using 'df.method({col: value}, inplace=True)' or df[col] = df[col].method(value) instead, to perform the operation inplace on the original object.\n",
            "\n",
            "\n",
            "  df['Age'].fillna(df['Age'].median(), inplace=True)\n",
            "/tmp/ipython-input-3274779809.py:10: FutureWarning: A value is trying to be set on a copy of a DataFrame or Series through chained assignment using an inplace method.\n",
            "The behavior will change in pandas 3.0. This inplace method will never work because the intermediate object on which we are setting values always behaves as a copy.\n",
            "\n",
            "For example, when doing 'df[col].method(value, inplace=True)', try using 'df.method({col: value}, inplace=True)' or df[col] = df[col].method(value) instead, to perform the operation inplace on the original object.\n",
            "\n",
            "\n",
            "  df['Embarked'].fillna(df['Embarked'].mode()[0], inplace=True)\n"
          ]
        },
        {
          "output_type": "stream",
          "name": "stdout",
          "text": [
            "It looks like you are running Gradio on a hosted Jupyter notebook, which requires `share=True`. Automatically setting `share=True` (you can turn this off by setting `share=False` in `launch()` explicitly).\n",
            "\n",
            "Colab notebook detected. To show errors in colab notebook, set debug=True in launch()\n",
            "* Running on public URL: https://09276d6c8aeb5b5864.gradio.live\n",
            "\n",
            "This share link expires in 1 week. For free permanent hosting and GPU upgrades, run `gradio deploy` from the terminal in the working directory to deploy to Hugging Face Spaces (https://huggingface.co/spaces)\n"
          ]
        },
        {
          "output_type": "display_data",
          "data": {
            "text/plain": [
              "<IPython.core.display.HTML object>"
            ],
            "text/html": [
              "<div><iframe src=\"https://09276d6c8aeb5b5864.gradio.live\" width=\"100%\" height=\"500\" allow=\"autoplay; camera; microphone; clipboard-read; clipboard-write;\" frameborder=\"0\" allowfullscreen></iframe></div>"
            ]
          },
          "metadata": {}
        },
        {
          "output_type": "execute_result",
          "data": {
            "text/plain": []
          },
          "metadata": {},
          "execution_count": 1
        }
      ]
    }
  ]
}